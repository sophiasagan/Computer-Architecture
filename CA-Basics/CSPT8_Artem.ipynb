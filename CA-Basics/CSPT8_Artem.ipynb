{
 "metadata": {
  "language_info": {
   "codemirror_mode": {
    "name": "ipython",
    "version": 3
   },
   "file_extension": ".py",
   "mimetype": "text/x-python",
   "name": "python",
   "nbconvert_exporter": "python",
   "pygments_lexer": "ipython3",
   "version": "3.8.3-final"
  },
  "orig_nbformat": 2,
  "kernelspec": {
   "name": "python38364bitfa50acdca65f4cd19dbbd264ca5400d8",
   "display_name": "Python 3.8.3 64-bit"
  }
 },
 "nbformat": 4,
 "nbformat_minor": 2,
 "cells": [
  {
   "cell_type": "markdown",
   "metadata": {},
   "source": [
    "### Computer Architecture - Guided Project\n",
    "______\n",
    "\n",
    "[Google \"logic gates\"](https://en.wikipedia.org/wiki/Logic_gate)\n",
    "\n"
   ]
  },
  {
   "cell_type": "markdown",
   "metadata": {},
   "source": [
    "#### Number Systems\n",
    "________\n",
    "\n",
    "\n",
    "decimal (base 10)\n",
    "\n",
    "1234\n",
    "(1 * 10^3) + (2 * 10^2) + (3 * 10^1) + (4 * 10^0)\n",
    "\n",
    "binary (base 2)\n",
    "\n",
    "14\n",
    "2^4 = 16 = 0\n",
    "2^3 = 8 = 1\n",
    "2^2 = 4 = 1\n",
    "2^1 = 2 = 1\n",
    "2^0 = 0 = 0 \n",
    "\n",
    "\n",
    "10101 == 21\n",
    "1 = 16\n",
    "0 = 0\n",
    "1 = 4\n",
    "0 = 0\n",
    "1 = 1\n",
    "\n"
   ]
  },
  {
   "cell_type": "code",
   "execution_count": 1,
   "metadata": {},
   "outputs": [
    {
     "output_type": "execute_result",
     "data": {
      "text/plain": "21"
     },
     "metadata": {},
     "execution_count": 1
    }
   ],
   "source": [
    "num = 21\n",
    "int(num)"
   ]
  },
  {
   "cell_type": "code",
   "execution_count": 5,
   "metadata": {},
   "outputs": [
    {
     "output_type": "execute_result",
     "data": {
      "text/plain": "'0b10101'"
     },
     "metadata": {},
     "execution_count": 5
    }
   ],
   "source": [
    "num = 21\n",
    "bin(num)"
   ]
  },
  {
   "cell_type": "code",
   "execution_count": 6,
   "metadata": {},
   "outputs": [
    {
     "output_type": "execute_result",
     "data": {
      "text/plain": "'0x15'"
     },
     "metadata": {},
     "execution_count": 6
    }
   ],
   "source": [
    "num = 21\n",
    "hex(num)"
   ]
  },
  {
   "cell_type": "code",
   "execution_count": 4,
   "metadata": {},
   "outputs": [
    {
     "output_type": "execute_result",
     "data": {
      "text/plain": "'0x52e330'"
     },
     "metadata": {},
     "execution_count": 4
    }
   ],
   "source": [
    "hex(5432112)"
   ]
  },
  {
   "cell_type": "code",
   "execution_count": null,
   "metadata": {},
   "outputs": [],
   "source": [
    "convert 0b1100101 to decimal\n",
    "# answer 202\n",
    "\n",
    "convert 115 to binary\n",
    "# answer 0b01110011\n",
    "\n",
    "convert 54 to binary (try making it 8 bit)\n",
    "# 0b00110110\n",
    "\n",
    "convert 54 to hex\n",
    "# 0x36"
   ]
  },
  {
   "cell_type": "code",
   "execution_count": 8,
   "metadata": {
    "tags": []
   },
   "outputs": [
    {
     "output_type": "stream",
     "name": "stdout",
     "text": "Hello World\nHello World\nHello World\n"
    },
    {
     "output_type": "error",
     "ename": "IndexError",
     "evalue": "list index out of range",
     "traceback": [
      "\u001b[1;31m---------------------------------------------------------------------------\u001b[0m",
      "\u001b[1;31mIndexError\u001b[0m                                Traceback (most recent call last)",
      "\u001b[1;32m<ipython-input-8-166b4dc8ea17>\u001b[0m in \u001b[0;36m<module>\u001b[1;34m\u001b[0m\n\u001b[0;32m     21\u001b[0m \u001b[1;32mwhile\u001b[0m \u001b[0mrunning\u001b[0m\u001b[1;33m:\u001b[0m\u001b[1;33m\u001b[0m\u001b[1;33m\u001b[0m\u001b[0m\n\u001b[0;32m     22\u001b[0m     \u001b[1;31m# read line by line from memory\u001b[0m\u001b[1;33m\u001b[0m\u001b[1;33m\u001b[0m\u001b[1;33m\u001b[0m\u001b[0m\n\u001b[1;32m---> 23\u001b[1;33m     \u001b[0minstruction\u001b[0m \u001b[1;33m=\u001b[0m \u001b[0mmemory\u001b[0m\u001b[1;33m[\u001b[0m\u001b[0mpc\u001b[0m\u001b[1;33m]\u001b[0m\u001b[1;33m\u001b[0m\u001b[1;33m\u001b[0m\u001b[0m\n\u001b[0m\u001b[0;32m     24\u001b[0m \u001b[1;33m\u001b[0m\u001b[0m\n\u001b[0;32m     25\u001b[0m     \u001b[1;32mif\u001b[0m \u001b[0minstruction\u001b[0m \u001b[1;33m==\u001b[0m \u001b[0mPRINT_HELLO_WORLD\u001b[0m\u001b[1;33m:\u001b[0m\u001b[1;33m\u001b[0m\u001b[1;33m\u001b[0m\u001b[0m\n",
      "\u001b[1;31mIndexError\u001b[0m: list index out of range"
     ]
    }
   ],
   "source": [
    "# example_cpu.py\n",
    "\n",
    "import sys\n",
    "\n",
    "# operation codes i.e. OP codes\n",
    "PRINT_HELLO_WORLD = 1 #0b00000001\n",
    "\n",
    "memory = [\n",
    "    PRINT_HELLO_WORLD,\n",
    "    PRINT_HELLO_WORLD,\n",
    "    PRINT_HELLO_WORLD,\n",
    "]\n",
    "\n",
    "# same as:\n",
    "# print(\"hello world\") *3\n",
    "\n",
    "pc = 0 # move the cpu forward through memory\n",
    "\n",
    "running = True\n",
    "\n",
    "while running:\n",
    "    # read line by line from memory\n",
    "    instruction = memory[pc]\n",
    "\n",
    "    if instruction == PRINT_HELLO_WORLD:\n",
    "        # print hello world and move the pc up 1 to the next instruction\n",
    "        print(\"Hello World\")\n",
    "        pc += 1"
   ]
  },
  {
   "cell_type": "markdown",
   "metadata": {},
   "source": [
    "program counter(pc) as an offset"
   ]
  },
  {
   "cell_type": "code",
   "execution_count": 9,
   "metadata": {
    "tags": []
   },
   "outputs": [
    {
     "output_type": "stream",
     "name": "stdout",
     "text": "Hello World\nHello World\nHello World\n"
    }
   ],
   "source": [
    "# example_cpu.py\n",
    "\n",
    "import sys\n",
    "\n",
    "# operation codes i.e. OP codes\n",
    "PRINT_HELLO_WORLD = 1 #0b00000001\n",
    "HALT              = 2 #0b00000010\n",
    "\n",
    "memory = [\n",
    "    PRINT_HELLO_WORLD,\n",
    "    PRINT_HELLO_WORLD,\n",
    "    PRINT_HELLO_WORLD,\n",
    "    HALT,\n",
    "]\n",
    "\n",
    "# same as:\n",
    "# print(\"hello world\") *3\n",
    "\n",
    "pc = 0 # move the cpu forward through memory\n",
    "\n",
    "running = True\n",
    "\n",
    "while running:\n",
    "    # read line by line from memory\n",
    "    instruction = memory[pc]\n",
    "\n",
    "    if instruction == PRINT_HELLO_WORLD:\n",
    "        # print hello world and move the pc up 1 to the next instruction\n",
    "        print(\"Hello World\")\n",
    "        pc += 1\n",
    "\n",
    "    if instruction == HALT:\n",
    "        running = False\n",
    "        pc += 1\n",
    "    \n",
    "    else:\n",
    "        print(f\"Unknown instruction {instruction}\")"
   ]
  },
  {
   "cell_type": "code",
   "execution_count": 10,
   "metadata": {
    "tags": []
   },
   "outputs": [
    {
     "output_type": "stream",
     "name": "stdout",
     "text": "Hello World\nUnkown instruction 1\n"
    },
    {
     "output_type": "error",
     "ename": "SystemExit",
     "evalue": "1",
     "traceback": [
      "An exception has occurred, use %tb to see the full traceback.\n",
      "\u001b[1;31mSystemExit\u001b[0m\u001b[1;31m:\u001b[0m 1\n"
     ]
    }
   ],
   "source": [
    "# example_cpu.py\n",
    "\n",
    "import sys\n",
    "\n",
    "# operation codes i.e. OP codes\n",
    "PRINT_HELLO_WORLD = 1 #0b00000001\n",
    "HALT              = 2 #0b00000010\n",
    "PRINT_NUM         = 3 #0b00000011\n",
    "\n",
    "memory = [\n",
    "    PRINT_HELLO_WORLD,\n",
    "    PRINT_NUM,\n",
    "    5,\n",
    "    HALT,\n",
    "]\n",
    "\n",
    "# same as:\n",
    "# print(\"hello world\") *3\n",
    "\n",
    "pc = 0 # move the cpu forward through memory\n",
    "\n",
    "running = True\n",
    "\n",
    "while running:\n",
    "    # read line by line from memory\n",
    "    instruction = memory[pc]\n",
    "\n",
    "    if instruction == PRINT_HELLO_WORLD:\n",
    "        # print hello world and move the pc up 1 to the next instruction\n",
    "        print(\"Hello World\")\n",
    "        pc += 1\n",
    "\n",
    "    elif instruction == PRINT_NUM:\n",
    "        # print the number in the next memory slot\n",
    "        num = memory[pc +1]\n",
    "        print(num)\n",
    "        pc += 2\n",
    "\n",
    "    if instruction == HALT:\n",
    "        running = False\n",
    "        pc += 1\n",
    "    \n",
    "    else:\n",
    "        print(f\"Unkown instruction {instruction}\")\n",
    "        sys.exit(1)"
   ]
  },
  {
   "cell_type": "code",
   "execution_count": 11,
   "metadata": {
    "tags": []
   },
   "outputs": [
    {
     "output_type": "stream",
     "name": "stdout",
     "text": "2321\n"
    }
   ],
   "source": [
    "import sys\n",
    "\n",
    "# Operation Codes\n",
    "# OP Codes\n",
    "PRINT_HELLO_WORLD = 1   #0b00000001 \n",
    "HALT              = 2   #0b00000010\n",
    "PRINT_NUM         = 3   #0b00000011\n",
    "SAVE_REG          = 4\n",
    "PRINT_REG         = 5\n",
    "ADD               = 6\n",
    "\n",
    "# ADD takes TWO registers, adds their values \n",
    "# and stores the result in the first register given\n",
    "\n",
    "\n",
    "# program that adds two numbers together\n",
    "# return\n",
    "memory = [\n",
    "    SAVE_REG,\n",
    "    200, #value 2\n",
    "    1,  # register 1\n",
    "    SAVE_REG,\n",
    "    2121, # value 2\n",
    "    2, # register 2\n",
    "    ADD,\n",
    "    1, # register 1\n",
    "    2, # register 2\n",
    "    PRINT_REG,\n",
    "    1,\n",
    "    HALT\n",
    "]\n",
    "\n",
    "registers = [0] * 8\n",
    "\n",
    "running = True\n",
    "pc = 0\n",
    "\n",
    "while running:\n",
    "    # Read line by line from memory\n",
    "    instruction = memory[pc]\n",
    "\n",
    "    if instruction == PRINT_HELLO_WORLD:\n",
    "        # print Hello world \n",
    "        # move the PC up 1 to the next instruction\n",
    "        print(\"Hello World\")\n",
    "        pc += 1\n",
    "\n",
    "    elif instruction ==  PRINT_NUM:\n",
    "        # Print the number in the NEXT memory slot\n",
    "        num = memory[pc + 1]\n",
    "        print(num)\n",
    "        pc += 2\n",
    "\n",
    "    elif instruction == SAVE_REG:\n",
    "        # Save some value to some register\n",
    "        # First number after instruction will be the Value to store\n",
    "        # second number after instruction will be register\n",
    "        num = memory[pc + 1]\n",
    "        reg_location = memory[pc + 2]\n",
    "        registers[reg_location] = num\n",
    "        pc += 3\n",
    "    \n",
    "    elif instruction == PRINT_REG:\n",
    "        reg_location = memory[pc + 1]\n",
    "        print(registers[reg_location])\n",
    "        pc += 2\n",
    "\n",
    "    elif instruction == ADD:\n",
    "        # ADD takes TWO registers, adds their values \n",
    "        # and stores the result in the first register given\n",
    "        # Get register 1\n",
    "        # get register 2\n",
    "        # Add the values of both registers together\n",
    "        # Store in register 1\n",
    "        reg_1 = memory[pc + 1]\n",
    "        reg_2 = memory[pc + 2]\n",
    "        registers[reg_1] += registers[reg_2]\n",
    "        pc += 3\n",
    "\n",
    "    elif instruction == HALT:\n",
    "        running = False\n",
    "        pc += 1\n",
    "\n",
    "    else:\n",
    "        print(f\"Unknown instruction {instruction}\")\n",
    "        sys.exit(1)"
   ]
  },
  {
   "cell_type": "code",
   "execution_count": null,
   "metadata": {},
   "outputs": [],
   "source": []
  }
 ]
}