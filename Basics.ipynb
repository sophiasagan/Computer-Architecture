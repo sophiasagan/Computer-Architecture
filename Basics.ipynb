{
 "metadata": {
  "language_info": {
   "codemirror_mode": {
    "name": "ipython",
    "version": 3
   },
   "file_extension": ".py",
   "mimetype": "text/x-python",
   "name": "python",
   "nbconvert_exporter": "python",
   "pygments_lexer": "ipython3",
   "version": 3
  },
  "orig_nbformat": 2
 },
 "nbformat": 4,
 "nbformat_minor": 2,
 "cells": [
  {
   "cell_type": "markdown",
   "metadata": {},
   "source": [
    "## Computer Architecure: Basics, Number Bases\n",
    "\n",
    "In this module, we will learn the basics of how a computer is constructed and functions. Additionally we’ll practice manipulating numbers in binary and hexadecimal.\n",
    "\n",
    "The week-long project is an implementation of an emulator for the LS-8 computer.\n",
    "\n",
    "At the end of this module, you should be able to:\n",
    "describe the functional components of a CPU\n",
    "convert between and understand decimal, binary, and hexadecimal\n"
   ]
  },
  {
   "cell_type": "markdown",
   "metadata": {},
   "source": [
    "### CPU Function Components\n",
    "____________________________\n",
    "\n",
    "### Objective\n",
    "_____________\n",
    "\n",
    "Describe the functional components of the CPU*\n",
    "* Demystify the black box\n",
    "* Learn what the components of the CPU are\n",
    "* Learn how the CPU communicates with RAM\n",
    "* Learn about the system bus"
   ]
  },
  {
   "cell_type": "markdown",
   "metadata": {},
   "source": [
    "### The Beginning\n",
    "\n",
    "* Transistors, the most basic\n",
    "* Gates, made of Transistors\n",
    "* Digital Logic common operations performed by Gates\n",
    "    + AND, OR, NOT, like you've seen in conditionals in code\n",
    "    + XOR, NOR, NAND\n",
    "* Gates can be put together into far more complex structures\n",
    "    + ALU\n",
    "    + CPUs\n"
   ]
  },
  {
   "cell_type": "markdown",
   "metadata": {},
   "source": [
    "### RAM\n",
    "\n",
    "* RAM stands for Random Access Memory\n",
    "* Fast compared to hard drives (and even compared to SSDs)\n",
    "* Think of it like a big array of bytes that you can access by index, just like an array in your favorite programming language\n",
    "* Each element in RAM can store one byte, an 8-bit number\n",
    "* Larger, multi-byte values are stored in sequential addresses in RAM\n",
    "* The CPU communicates with RAM via the memory bus"
   ]
  },
  {
   "cell_type": "markdown",
   "metadata": {},
   "source": [
    "### CPU words\n",
    "\n",
    "* Bytes of data are stored in RAM (memory)\n",
    "* Larger 64-bit (8-byte) numbers, stored sequentially in RAM, that the CPU can operate on at once are called words\n",
    "* The exact number of bytes per word depends on the architecture\n",
    "    + 8 bytes for a 64-bit CPU\n",
    "    + 4 bytes for a 32-bit CPU\n",
    "    + 1 byte for an 8-bit CPU"
   ]
  },
  {
   "cell_type": "markdown",
   "metadata": {},
   "source": [
    "### CPU Registers\n",
    "\n",
    "#### Registers store words that can be accessed at ultra-high-speed\n",
    "\n",
    "* Think of them like variables that the CPU has at its disposal\n",
    "* Similar to RAM, except stored directly onthe CPU so they are much faster\n",
    "* There are a limited number of them at your disposal, usually 8, 16, or 32, depending on the CPU\n",
    "* They have fixed names, e.g. R0, R1, or EAX, EBX etc. depending on the CPU\n",
    "* Many CPUs cna only perform math operations on registers which must be loaded from RAM first. (The x86 family can often perfom math on registers quickly , or RAM slowly.)"
   ]
  },
  {
   "cell_type": "markdown",
   "metadata": {},
   "source": [
    "### CPU Instructions\n",
    "\n",
    "* Are also stored in RAM with other data\n",
    "* Are actually just numbers\n",
    "* Humans often use mnemonics to refer to the insturction in a human-readable way\n",
    "* The CPU keeps track of the address of the currently-executing instruction in RAM and performs different actions based on the instruction found there\n",
    "* The address of the currently-executing instruction is held in a special register called the program counter (PC)\n",
    "* CPUs usually have a significant number of instructions, around 50 - 200"
   ]
  },
  {
   "cell_type": "markdown",
   "metadata": {},
   "source": [
    "### CPU Clock\n",
    "\n",
    "* The clock in a modern CPU triggers a few billion times per second\n",
    "* Clock cycle rate is measured in Hz, KHz, MHz, or GHz (billions of cycles per second)\n",
    "* Each instruction takes one or more clock cycles to execute\n",
    "* The faster the clock, the more instructions can execute per second"
   ]
  },
  {
   "cell_type": "markdown",
   "metadata": {},
   "source": [
    "### Concurrency\n",
    "\n",
    "#### How the CPU does more than one thing at once\n",
    "\n",
    "* Each hardware component can only do one thing at once\n",
    "* Duplicate the hardware components!\n",
    "* Multi-core CPUs\n",
    "* Pipelining\n",
    "* Timesharing"
   ]
  },
  {
   "cell_type": "markdown",
   "metadata": {},
   "source": [
    "### System Bus\n",
    "\n",
    "#### How data is passed from the CPU to RAM, and from the CPU to peripherals\n",
    "\n",
    "* Address Bus: carreies the address in RAM we're interested in, or the peripheral ID we're interested in\n",
    "\n",
    "* Data Bus: carries data to be transmitted to or from RAM or peripherals\n",
    "* Control Bus: controls whether or not the CPU is talking to RAM or peripheral\n",
    "* The size or width of the bus is typically the number of \"bits\" a computer is advertised as having. A 64-bit CPU has a 64-bit wide data bus, and usually a 64-bit wide address bus."
   ]
  },
  {
   "cell_type": "markdown",
   "metadata": {},
   "source": [
    "### Caching\n",
    "\n",
    "* Access to RAM is relative slow\n",
    "* Access to Registers is fast\n",
    "* Middle ground == Cache\n",
    "* Closer to the CPU\n",
    "* Usually arranged in a level hierachy\n",
    "* Cache Miss means you're trying to access memory that's not yet in the Cache\n",
    "* Cache Hit means the memory you want is in the cache already"
   ]
  },
  {
   "cell_type": "code",
   "execution_count": null,
   "metadata": {},
   "outputs": [],
   "source": []
  }
 ]
}