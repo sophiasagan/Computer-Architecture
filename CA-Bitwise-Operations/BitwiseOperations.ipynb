{
 "metadata": {
  "language_info": {
   "codemirror_mode": {
    "name": "ipython",
    "version": 3
   },
   "file_extension": ".py",
   "mimetype": "text/x-python",
   "name": "python",
   "nbconvert_exporter": "python",
   "pygments_lexer": "ipython3",
   "version": "3.8.3-final"
  },
  "orig_nbformat": 2,
  "kernelspec": {
   "name": "python38364bitfa50acdca65f4cd19dbbd264ca5400d8",
   "display_name": "Python 3.8.3 64-bit"
  }
 },
 "nbformat": 4,
 "nbformat_minor": 2,
 "cells": [
  {
   "cell_type": "markdown",
   "metadata": {},
   "source": [
    "### Computer Architecture: Bitwise Operations\n",
    "\n",
    "#### Bitwise Operations\n",
    "AND\n",
    "1 AND 1 = 1\n"
   ]
  },
  {
   "cell_type": "code",
   "execution_count": null,
   "metadata": {},
   "outputs": [],
   "source": []
  },
  {
   "cell_type": "markdown",
   "metadata": {},
   "source": [
    "bit shifting"
   ]
  },
  {
   "cell_type": "code",
   "execution_count": 1,
   "metadata": {
    "tags": []
   },
   "outputs": [
    {
     "output_type": "stream",
     "name": "stdout",
     "text": "0b111\n0b1\n"
    }
   ],
   "source": [
    "print(bin(0b1110 >> 1)) # shift to ghe right by 1\n",
    "\n",
    "print(bin(0b1110 >>3)) # shift to the right by 1"
   ]
  },
  {
   "cell_type": "code",
   "execution_count": 2,
   "metadata": {
    "tags": []
   },
   "outputs": [
    {
     "output_type": "stream",
     "name": "stdout",
     "text": "14\n7\n3\n"
    }
   ],
   "source": [
    "print(int(0b1110))\n",
    "print(int(0b1110 >> 1)) # division by 2\n",
    "print(int(0b1110 >> 2)) # division by 4"
   ]
  },
  {
   "cell_type": "markdown",
   "metadata": {},
   "source": [
    "#### bit masking"
   ]
  },
  {
   "cell_type": "code",
   "execution_count": 4,
   "metadata": {
    "tags": []
   },
   "outputs": [
    {
     "output_type": "stream",
     "name": "stdout",
     "text": "0b10\n"
    }
   ],
   "source": [
    "instuction = 0b10000010 # LDI\n",
    "shifted = instuction >> 6\n",
    "print(bin(shifted))"
   ]
  },
  {
   "cell_type": "code",
   "execution_count": 7,
   "metadata": {
    "tags": []
   },
   "outputs": [
    {
     "output_type": "stream",
     "name": "stdout",
     "text": "0b10011\n"
    }
   ],
   "source": [
    "instruction = 0b10011010\n",
    "shifted = instruction >> 3\n",
    "print(bin(shifted))"
   ]
  },
  {
   "cell_type": "code",
   "execution_count": 10,
   "metadata": {
    "tags": []
   },
   "outputs": [
    {
     "output_type": "stream",
     "name": "stdout",
     "text": "0b10000\n"
    }
   ],
   "source": [
    "instruction = 0b10010010\n",
    "mask = 0b00011000 & instruction\n",
    "shifted = mask >> 3\n",
    "\n",
    "# filters out all unnecessary values\n",
    "print(bin(mask))"
   ]
  },
  {
   "cell_type": "code",
   "execution_count": 11,
   "metadata": {
    "tags": []
   },
   "outputs": [
    {
     "output_type": "stream",
     "name": "stdout",
     "text": "Usage: example_cpu.py filename\n"
    },
    {
     "output_type": "error",
     "ename": "SystemExit",
     "evalue": "1",
     "traceback": [
      "An exception has occurred, use %tb to see the full traceback.\n",
      "\u001b[1;31mSystemExit\u001b[0m\u001b[1;31m:\u001b[0m 1\n"
     ]
    }
   ],
   "source": [
    "import sys\n",
    "\n",
    "# Operation Codes\n",
    "# OP Codes\n",
    "PRINT_HELLO_WORLD = 1   #0b00000001 \n",
    "HALT              = 2   #0b00000010\n",
    "PRINT_NUM         = 3   #0b00000011\n",
    "SAVE_REG          = 4\n",
    "PRINT_REG         = 5\n",
    "ADD               = 6\n",
    "\n",
    "# ADD takes TWO registers, adds their values \n",
    "# and stores the result in the first register given\n",
    "\n",
    "\n",
    "# program that adds two numbers together\n",
    "# return\n",
    "memory = [0] * 256 \n",
    "\n",
    "registers = [0] * 8\n",
    "\n",
    "running = True\n",
    "pc = 0\n",
    "\n",
    "# Get file name from command line arguments\n",
    "if len(sys.argv) != 2:\n",
    "    print(\"Usage: example_cpu.py filename\")\n",
    "    sys.exit(1)\n",
    "\n",
    "\n",
    "def load_memory(filename):\n",
    "    # Open a file and load into memory\n",
    "    address = 0\n",
    "    try:\n",
    "        with open(filename) as f:\n",
    "            for line in f:\n",
    "                # Split the current line on the # symbol\n",
    "                split_line = line.split('#')\n",
    "\n",
    "                code_value = split_line[0].strip() # removes whitespace and \\n character\n",
    "                # Make sure that the value before the # symbol is not empty\n",
    "                if code_value == '':\n",
    "                    continue\n",
    "\n",
    "                num = int(code_value)\n",
    "                memory[address] = num\n",
    "                address += 1\n",
    "                \n",
    "\n",
    "    except FileNotFoundError: \n",
    "        print(f\"{sys.argv[1]} file not found\")\n",
    "        sys.exit(2)\n",
    "\n",
    "\n",
    "load_memory(sys.argv[1])\n",
    "\n",
    "while running:\n",
    "    # Read line by line from memory\n",
    "    instruction = memory[pc]\n",
    "\n",
    "    if instruction == PRINT_HELLO_WORLD:\n",
    "        # print Hello world \n",
    "        # move the PC up 1 to the next instruction\n",
    "        print(\"Hello World\")\n",
    "        pc += 1\n",
    "\n",
    "    elif instruction ==  PRINT_NUM:\n",
    "        # Print the number in the NEXT memory slot\n",
    "        num = memory[pc + 1]\n",
    "        print(num)\n",
    "        pc += 2\n",
    "\n",
    "    elif instruction == SAVE_REG:\n",
    "        # Save some value to some register\n",
    "        # First number after instruction will be the Value to store\n",
    "        # second number after instruction will be register\n",
    "        num = memory[pc + 1]\n",
    "        reg_location = memory[pc + 2]\n",
    "        registers[reg_location] = num\n",
    "        pc += 3\n",
    "    \n",
    "    elif instruction == PRINT_REG:\n",
    "        reg_location = memory[pc + 1]\n",
    "        print(registers[reg_location])\n",
    "        pc += 2\n",
    "\n",
    "    elif instruction == ADD:\n",
    "        # ADD takes TWO registers, adds their values \n",
    "        # and stores the result in the first register given\n",
    "        # Get register 1\n",
    "        # get register 2\n",
    "        # Add the values of both registers together\n",
    "        # Store in register 1\n",
    "        reg_1 = memory[pc + 1]\n",
    "        reg_2 = memory[pc + 2]\n",
    "        registers[reg_1] += registers[reg_2]\n",
    "        pc += 3\n",
    "\n",
    "    elif instruction == HALT:\n",
    "        running = False\n",
    "        pc += 1\n",
    "\n",
    "    else:\n",
    "        print(f\"Unknown instruction {instruction}\")\n",
    "        sys.exit(1)"
   ]
  },
  {
   "cell_type": "code",
   "execution_count": null,
   "metadata": {},
   "outputs": [],
   "source": []
  }
 ]
}