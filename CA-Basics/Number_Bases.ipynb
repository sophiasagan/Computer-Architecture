{
 "metadata": {
  "language_info": {
   "codemirror_mode": {
    "name": "ipython",
    "version": 3
   },
   "file_extension": ".py",
   "mimetype": "text/x-python",
   "name": "python",
   "nbconvert_exporter": "python",
   "pygments_lexer": "ipython3",
   "version": 3
  },
  "orig_nbformat": 2
 },
 "nbformat": 4,
 "nbformat_minor": 2,
 "cells": [
  {
   "cell_type": "markdown",
   "metadata": {},
   "source": [
    "### Computer Architecture: Number Bases and Conversions\n",
    "\n",
    "#### Numbers and Values\n",
    "\n",
    "Values exist regardless of how we write them down.\n",
    "\n",
    "There are 12 apples here:\n",
    "\n",
    "12 apples(decimal)\n",
    "\n",
    "1100 apples (binary)\n",
    "\n",
    "C apples (hexadecimal)"
   ]
  },
  {
   "cell_type": "markdown",
   "metadata": {},
   "source": [
    "#### Number Bases\n",
    "\n",
    "The number base refers to how many individual digits that number system has.\n",
    "\n",
    "Decimal has 10 digits (0, 1, 2, 3, 4, 5, 6, 7, 8, 9) so it is base 10.\n",
    "\n",
    "Binary has 2 digits (0, 1) so it is base 2. A binary digit is called a bit for short.\n",
    "\n",
    "Hexadecimal has 16 digits (0, 1, 2, 3, 4, 5, 6, 7, 8, 9, A, B, C, D, E, F) so it base 16.\n",
    "\n",
    "Octal has 8 digits (0, 1, 2, 3, 4, 5, 6, 7) so it has base 8. (Not frequently used.)\n",
    "\n",
    "Hexadecimal is often called \"hex\" for short."
   ]
  },
  {
   "cell_type": "markdown",
   "metadata": {},
   "source": [
    "#### Terminology\n",
    "\n",
    "* Byte: 8 bits. Max Value: 255 decimal, FF hex. Min value 0.\n",
    "* Nibble: 4 bits. Max Value: 15 decimal, F hex. Min value 0.\n",
    "* Octet: synonym for byte.\n",
    "* Decimal: A base-10 numbering system, the one you already know.\n",
    "* Hexadecimal or hex: A base-16 numbering system.\n",
    "* Binary: A base-2 numbering system.\n",
    "* Octal: A rarely-used base-8 numbering system."
   ]
  },
  {
   "cell_type": "markdown",
   "metadata": {},
   "source": [
    "#### The Octal Trap\n",
    "\n",
    "Even though (base 8) is rarely used, you can specify octal numbers inmany languages with a leading zero:"
   ]
  },
  {
   "cell_type": "code",
   "execution_count": null,
   "metadata": {},
   "outputs": [],
   "source": [
    "int x = 12; # Decimal\n",
    "int y - 012; # Octal, demical value 10!"
   ]
  },
  {
   "cell_type": "markdown",
   "metadata": {},
   "source": [
    "Don't pad demical numbers with leading zeros!"
   ]
  }
 ]
}